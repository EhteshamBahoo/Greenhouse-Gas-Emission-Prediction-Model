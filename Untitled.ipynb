{
 "cells": [
  {
   "cell_type": "code",
   "execution_count": 4,
   "id": "63ff0b2a-7b2e-49f5-bf42-b669088526cb",
   "metadata": {},
   "outputs": [
    {
     "name": "stdout",
     "output_type": "stream",
     "text": [
      "Defaulting to user installation because normal site-packages is not writeable\n",
      "Collecting openpyxl\n",
      "  Downloading openpyxl-3.1.5-py2.py3-none-any.whl (250 kB)\n",
      "\u001b[2K     \u001b[38;2;114;156;31m━━━━━━━━━━━━━━━━━━━━━━━━━━━━━━━━━━━━━\u001b[0m \u001b[32m250.9/250.9 KB\u001b[0m \u001b[31m689.3 kB/s\u001b[0m eta \u001b[36m0:00:00\u001b[0m1m722.4 kB/s\u001b[0m eta \u001b[36m0:00:01\u001b[0m\n",
      "Collecting xlrd\n",
      "  Downloading xlrd-2.0.1-py2.py3-none-any.whl (96 kB)\n",
      "\u001b[2K     \u001b[38;2;114;156;31m━━━━━━━━━━━━━━━━━━━━━━━━━━━━━━━━━━━━━━━━\u001b[0m \u001b[32m96.5/96.5 KB\u001b[0m \u001b[31m2.8 MB/s\u001b[0m eta \u001b[36m0:00:00\u001b[0m\n",
      "Collecting et-xmlfile\n",
      "  Downloading et_xmlfile-2.0.0-py3-none-any.whl (18 kB)\n",
      "Installing collected packages: xlrd, et-xmlfile, openpyxl\n",
      "Successfully installed et-xmlfile-2.0.0 openpyxl-3.1.5 xlrd-2.0.1\n",
      "Note: you may need to restart the kernel to use updated packages.\n"
     ]
    }
   ],
   "source": [
    "pip install openpyxl xlrd\n"
   ]
  },
  {
   "cell_type": "code",
   "execution_count": 5,
   "id": "24119dc5-1283-40c5-8443-96f5c0ef0198",
   "metadata": {
    "scrolled": true
   },
   "outputs": [
    {
     "name": "stdout",
     "output_type": "stream",
     "text": [
      "   GHG emissions of all world countries, 2024 Report\n",
      "0                                                NaN\n",
      "1                          How to cite this report: \n",
      "2  Crippa M., Guizzardi D., Pagani F., Banja M., ...\n",
      "3                                                NaN\n",
      "4  website: https://edgar.jrc.ec.europa.eu/report...\n",
      "   GHG emissions of all world countries, 2024 Report\n",
      "0                                                NaN\n",
      "1                          How to cite this report: \n",
      "2  Crippa M., Guizzardi D., Pagani F., Banja M., ...\n",
      "3                                                NaN\n",
      "4  website: https://edgar.jrc.ec.europa.eu/report...\n"
     ]
    }
   ],
   "source": [
    "import pandas as pd\n",
    "\n"
   ]
  },
  {
   "cell_type": "code",
   "execution_count": 6,
   "id": "a65754bc-dbf6-44ce-9e28-c06724a820d6",
   "metadata": {},
   "outputs": [
    {
     "name": "stdout",
     "output_type": "stream",
     "text": [
      "['info', 'citations and references', 'GHG_totals_by_country', 'GHG_by_sector_and_country', 'GHG_per_GDP_by_country', 'GHG_per_capita_by_country', 'LULUCF_macroregions']\n",
      "['info', 'citations and references', 'fossil_CO2_totals_by_country', 'fossil_CO2_by_sector_country_su', 'fossil_CO2_per_GDP_by_country', 'fossil_CO2_per_capita_by_countr']\n"
     ]
    }
   ],
   "source": [
    "print(pd.ExcelFile(\"Data/EDGAR_2024_GHG_booklet_2024.xlsx\").sheet_names)\n",
    "print(pd.ExcelFile(\"Data/EDGAR_2024_GHG_booklet_2024_fossilCO2only.xlsx\").sheet_names)\n"
   ]
  },
  {
   "cell_type": "code",
   "execution_count": 7,
   "id": "9d0d1440-364d-4398-b1d3-6de714cf4d2c",
   "metadata": {},
   "outputs": [
    {
     "name": "stdout",
     "output_type": "stream",
     "text": [
      "  EDGAR Country Code                 Country        1970        1971  \\\n",
      "0                ABW                   Aruba    0.036713    0.041538   \n",
      "1                AFG             Afghanistan   15.437430   15.364077   \n",
      "2                AGO                  Angola   18.998763   18.866057   \n",
      "3                AIA                Anguilla    0.003355    0.003396   \n",
      "4                AIR  International Aviation  172.478021  172.465452   \n",
      "\n",
      "         1972        1973        1974        1975        1976        1977  \\\n",
      "0    0.052391    0.057360    0.056630    0.070743    0.069793    0.080624   \n",
      "1   13.316628   13.934875   15.177862   15.843058   15.943325   16.088215   \n",
      "2   21.459002   23.018941   23.685423   22.519608   18.586243   23.251029   \n",
      "3    0.003534    0.003411    0.003694    0.003968    0.003833    0.003960   \n",
      "4  182.459819  190.296910  183.162104  177.165836  177.483077  193.593366   \n",
      "\n",
      "   ...        2014        2015        2016        2017        2018  \\\n",
      "0  ...    0.469468    0.490990    0.514539    0.496141    0.495532   \n",
      "1  ...   27.420132   27.408332   26.633999   27.691927   27.553282   \n",
      "2  ...   77.295699   81.775031   78.875889   73.424409   69.504638   \n",
      "3  ...    0.031210    0.031334    0.031728    0.032476    0.031594   \n",
      "4  ...  514.263976  543.354255  567.631287  597.771580  624.135612   \n",
      "\n",
      "         2019        2020        2021        2022        2023  \n",
      "0    0.588998    0.482160    0.531202    0.533603    0.561498  \n",
      "1   26.982777   26.646320   27.643074   28.614071   29.460052  \n",
      "2   69.910832   61.680081   64.408994   67.210842   67.700756  \n",
      "3    0.030948    0.026037    0.025224    0.025068    0.026211  \n",
      "4  633.464502  302.632337  335.728729  416.953422  498.178114  \n",
      "\n",
      "[5 rows x 56 columns]\n",
      "  Substance       Sector EDGAR Country Code      Country      1970      1971  \\\n",
      "0       CO2  Agriculture                AFG  Afghanistan  0.029229  0.029229   \n",
      "1       CO2  Agriculture                ALB      Albania  0.113300  0.113300   \n",
      "2       CO2  Agriculture                ARG    Argentina  0.104343  0.104343   \n",
      "3       CO2  Agriculture                ARM      Armenia  0.055288  0.055288   \n",
      "4       CO2  Agriculture                AUS    Australia  0.311143  0.311143   \n",
      "\n",
      "       1972      1973      1974      1975  ...      2014      2015      2016  \\\n",
      "0  0.029229  0.029229  0.039967  0.045310  ...  0.084490  0.116967  0.163009   \n",
      "1  0.113300  0.113300  0.113614  0.112514  ...  0.053481  0.056519  0.047405   \n",
      "2  0.104343  0.104343  0.087214  0.077314  ...  1.146619  0.892257  1.385790   \n",
      "3  0.055288  0.055288  0.059966  0.059966  ...  0.035200  0.033943  0.039443   \n",
      "4  0.311143  0.311143  0.311143  0.268190  ...  2.182924  2.291771  2.505224   \n",
      "\n",
      "       2017      2018      2019      2020      2021      2022      2023  \n",
      "0  0.311300  0.161333  0.151276  0.064795  0.046692  0.023617  0.015142  \n",
      "1  0.054162  0.046462  0.066419  0.060552  0.048348  0.048536  0.048955  \n",
      "2  1.278409  1.592119  1.703062  1.925471  2.124204  2.270616  2.405894  \n",
      "3  0.052486  0.051071  0.061024  0.055838  0.044629  0.044911  0.045237  \n",
      "4  2.641204  2.155371  2.290200  2.664304  3.215666  3.315892  3.426744  \n",
      "\n",
      "[5 rows x 58 columns]\n",
      "  Substance EDGAR Country Code                 Country        1970  \\\n",
      "0       CO2                ABW                   Aruba    0.025214   \n",
      "1       CO2                AFG             Afghanistan    1.733920   \n",
      "2       CO2                AGO                  Angola    8.933899   \n",
      "3       CO2                AIA                Anguilla    0.002178   \n",
      "4       CO2                AIR  International Aviation  169.900399   \n",
      "\n",
      "         1971        1972        1973        1974        1975        1976  \\\n",
      "0    0.028828    0.039472    0.044289    0.043469    0.057396    0.056423   \n",
      "1    1.733710    1.693584    1.733905    2.190318    2.028967    1.892642   \n",
      "2    8.519513   10.366104   11.346996   11.806561   10.904653    7.291981   \n",
      "3    0.002178    0.002273    0.002118    0.002360    0.002594    0.002444   \n",
      "4  169.900399  179.759531  187.494406  180.478129  174.582471  174.907983   \n",
      "\n",
      "   ...        2014        2015        2016        2017        2018  \\\n",
      "0  ...    0.440689    0.462026    0.484889    0.466592    0.465881   \n",
      "1  ...    7.825741    8.346521    7.527594    8.066138    7.932005   \n",
      "2  ...   30.887264   33.097499   31.285803   27.942099   26.258887   \n",
      "3  ...    0.027917    0.028027    0.028363    0.029087    0.028247   \n",
      "4  ...  507.505761  536.213680  560.173839  589.919315  615.937542   \n",
      "\n",
      "         2019        2020        2021        2022        2023  \n",
      "0    0.557917    0.452553    0.500635    0.502693    0.530026  \n",
      "1    7.249069    7.054133    7.930781    8.259915    8.707350  \n",
      "2   27.573216   20.710918   25.262832   27.353038   28.229928  \n",
      "3    0.027604    0.022804    0.022018    0.021861    0.022956  \n",
      "4  625.141435  298.655678  331.317425  411.474866  491.632308  \n",
      "\n",
      "[5 rows x 57 columns]\n",
      "  Substance       Sector EDGAR Country Code      Country      1970      1971  \\\n",
      "0       CO2  Agriculture                AFG  Afghanistan  0.029229  0.029229   \n",
      "1       CO2  Agriculture                ALB      Albania  0.113300  0.113300   \n",
      "2       CO2  Agriculture                ARG    Argentina  0.104343  0.104343   \n",
      "3       CO2  Agriculture                ARM      Armenia  0.055288  0.055288   \n",
      "4       CO2  Agriculture                AUS    Australia  0.311143  0.311143   \n",
      "\n",
      "       1972      1973      1974      1975  ...      2014      2015      2016  \\\n",
      "0  0.029229  0.029229  0.039967  0.045310  ...  0.084490  0.116967  0.163009   \n",
      "1  0.113300  0.113300  0.113614  0.112514  ...  0.053481  0.056519  0.047405   \n",
      "2  0.104343  0.104343  0.087214  0.077314  ...  1.146619  0.892257  1.385790   \n",
      "3  0.055288  0.055288  0.059966  0.059966  ...  0.035200  0.033943  0.039443   \n",
      "4  0.311143  0.311143  0.311143  0.268190  ...  2.182924  2.291771  2.505224   \n",
      "\n",
      "       2017      2018      2019      2020      2021      2022      2023  \n",
      "0  0.311300  0.161333  0.151276  0.064795  0.046692  0.023617  0.015142  \n",
      "1  0.054162  0.046462  0.066419  0.060552  0.048348  0.048536  0.048955  \n",
      "2  1.278409  1.592119  1.703062  1.925471  2.124204  2.270616  2.405894  \n",
      "3  0.052486  0.051071  0.061024  0.055838  0.044629  0.044911  0.045237  \n",
      "4  2.641204  2.155371  2.290200  2.664304  3.215666  3.315892  3.426744  \n",
      "\n",
      "[5 rows x 58 columns]\n"
     ]
    }
   ],
   "source": [
    "import pandas as pd\n",
    "\n",
    "# Load the main datasets\n",
    "edgar_ghg_totals = pd.read_excel(\"Data/EDGAR_2024_GHG_booklet_2024.xlsx\", sheet_name=\"GHG_totals_by_country\")\n",
    "edgar_ghg_sector = pd.read_excel(\"Data/EDGAR_2024_GHG_booklet_2024.xlsx\", sheet_name=\"GHG_by_sector_and_country\")\n",
    "iea_edgar_co2_totals = pd.read_excel(\"Data/EDGAR_2024_GHG_booklet_2024_fossilCO2only.xlsx\", sheet_name=\"fossil_CO2_totals_by_country\")\n",
    "iea_edgar_co2_sector = pd.read_excel(\"Data/EDGAR_2024_GHG_booklet_2024_fossilCO2only.xlsx\", sheet_name=\"fossil_CO2_by_sector_country_su\")\n",
    "\n",
    "# Show first few rows\n",
    "print(edgar_ghg_totals.head())\n",
    "print(edgar_ghg_sector.head())\n",
    "print(iea_edgar_co2_totals.head())\n",
    "print(iea_edgar_co2_sector.head())\n"
   ]
  },
  {
   "cell_type": "code",
   "execution_count": null,
   "id": "b5080062-fd83-43d0-b314-8e0be7e5befd",
   "metadata": {},
   "outputs": [],
   "source": []
  }
 ],
 "metadata": {
  "kernelspec": {
   "display_name": "Python 3 (ipykernel)",
   "language": "python",
   "name": "python3"
  },
  "language_info": {
   "codemirror_mode": {
    "name": "ipython",
    "version": 3
   },
   "file_extension": ".py",
   "mimetype": "text/x-python",
   "name": "python",
   "nbconvert_exporter": "python",
   "pygments_lexer": "ipython3",
   "version": "3.10.12"
  }
 },
 "nbformat": 4,
 "nbformat_minor": 5
}
